{
 "cells": [
  {
   "cell_type": "code",
   "execution_count": 1,
   "id": "f97d8147-301e-4781-b5c5-ca891cc6ebc6",
   "metadata": {},
   "outputs": [],
   "source": [
    "import pandas as  pd\n",
    "import numpy as np"
   ]
  },
  {
   "cell_type": "code",
   "execution_count": 2,
   "id": "69735fca-3b25-4b29-888e-69eec57da9a4",
   "metadata": {},
   "outputs": [],
   "source": [
    "df = pd.read_csv(\"noida_house.csv\")"
   ]
  },
  {
   "cell_type": "code",
   "execution_count": 3,
   "id": "6f219634-b70c-474d-8641-787cf49d99cd",
   "metadata": {},
   "outputs": [
    {
     "name": "stdout",
     "output_type": "stream",
     "text": [
      "<class 'pandas.core.frame.DataFrame'>\n",
      "RangeIndex: 4460 entries, 0 to 4459\n",
      "Data columns (total 5 columns):\n",
      " #   Column        Non-Null Count  Dtype \n",
      "---  ------        --------------  ----- \n",
      " 0   Flat No.      4460 non-null   int64 \n",
      " 1   Area in Sqrt  4460 non-null   int64 \n",
      " 2   No.of Bhk     4460 non-null   int64 \n",
      " 3   Location      4460 non-null   object\n",
      " 4   Price         4460 non-null   object\n",
      "dtypes: int64(3), object(2)\n",
      "memory usage: 174.3+ KB\n"
     ]
    }
   ],
   "source": [
    "df.info()"
   ]
  },
  {
   "cell_type": "code",
   "execution_count": 4,
   "id": "521975a6-f4fc-4c3e-99b4-4c38ccad806a",
   "metadata": {},
   "outputs": [
    {
     "data": {
      "text/html": [
       "<div>\n",
       "<style scoped>\n",
       "    .dataframe tbody tr th:only-of-type {\n",
       "        vertical-align: middle;\n",
       "    }\n",
       "\n",
       "    .dataframe tbody tr th {\n",
       "        vertical-align: top;\n",
       "    }\n",
       "\n",
       "    .dataframe thead th {\n",
       "        text-align: right;\n",
       "    }\n",
       "</style>\n",
       "<table border=\"1\" class=\"dataframe\">\n",
       "  <thead>\n",
       "    <tr style=\"text-align: right;\">\n",
       "      <th></th>\n",
       "      <th>Flat No.</th>\n",
       "      <th>Area in Sqrt</th>\n",
       "      <th>No.of Bhk</th>\n",
       "      <th>Location</th>\n",
       "      <th>Price</th>\n",
       "    </tr>\n",
       "  </thead>\n",
       "  <tbody>\n",
       "    <tr>\n",
       "      <th>0</th>\n",
       "      <td>0</td>\n",
       "      <td>3720</td>\n",
       "      <td>4</td>\n",
       "      <td>Sector 107, Noida</td>\n",
       "      <td>3.9 Cr</td>\n",
       "    </tr>\n",
       "    <tr>\n",
       "      <th>1</th>\n",
       "      <td>1</td>\n",
       "      <td>1625</td>\n",
       "      <td>3</td>\n",
       "      <td>Sector 50, Noida</td>\n",
       "      <td>1.15 Cr</td>\n",
       "    </tr>\n",
       "    <tr>\n",
       "      <th>2</th>\n",
       "      <td>2</td>\n",
       "      <td>1325</td>\n",
       "      <td>3</td>\n",
       "      <td>Sector 120, Noida</td>\n",
       "      <td>60 L</td>\n",
       "    </tr>\n",
       "    <tr>\n",
       "      <th>3</th>\n",
       "      <td>3</td>\n",
       "      <td>650</td>\n",
       "      <td>1</td>\n",
       "      <td>Sector 73, Noida</td>\n",
       "      <td>19 L</td>\n",
       "    </tr>\n",
       "    <tr>\n",
       "      <th>4</th>\n",
       "      <td>4</td>\n",
       "      <td>950</td>\n",
       "      <td>2</td>\n",
       "      <td>Phase 2 Noida Extension, Noida</td>\n",
       "      <td>25.99 L</td>\n",
       "    </tr>\n",
       "  </tbody>\n",
       "</table>\n",
       "</div>"
      ],
      "text/plain": [
       "   Flat No.  Area in Sqrt  No.of Bhk                        Location     Price\n",
       "0         0          3720          4               Sector 107, Noida    3.9 Cr\n",
       "1         1          1625          3                Sector 50, Noida   1.15 Cr\n",
       "2         2          1325          3               Sector 120, Noida      60 L\n",
       "3         3           650          1                Sector 73, Noida      19 L\n",
       "4         4           950          2  Phase 2 Noida Extension, Noida   25.99 L"
      ]
     },
     "execution_count": 4,
     "metadata": {},
     "output_type": "execute_result"
    }
   ],
   "source": [
    "df.head()"
   ]
  },
  {
   "cell_type": "code",
   "execution_count": 5,
   "id": "e70af5fb-81c7-4f0b-bff2-8dd7f2d0c2a8",
   "metadata": {},
   "outputs": [],
   "source": [
    "location_counts = df[\"Location\"].value_counts()"
   ]
  },
  {
   "cell_type": "code",
   "execution_count": 6,
   "id": "3d843238-f093-4ba4-a5f8-725c2b133524",
   "metadata": {},
   "outputs": [
    {
     "name": "stdout",
     "output_type": "stream",
     "text": [
      "Number of locations with less than 10 entries: 50\n",
      "Location\n",
      "Phase 2 Noida Extension, Noida                            9\n",
      "Sector 14, Noida                                          9\n",
      "Sector 22D Yamuna Expressway, Noida                       8\n",
      "Sector-106 Noida, Noida                                   8\n",
      "Sector 40, Noida                                          7\n",
      "Sector 46, Noida                                          7\n",
      "Sector 61, Noida                                          7\n",
      "Urbainia Trinity Noida Extension Yakubpur Noida, Noida    7\n",
      "Sector 39, Noida                                          6\n",
      "Sector 151, Noida                                         6\n",
      "Sector 19, Noida                                          6\n",
      "Sector 149, Noida                                         6\n",
      "Sector 118, Noida                                         6\n",
      "Sector 34, Noida                                          6\n",
      "rho 2, Noida                                              5\n",
      "Sector 51, Noida                                          5\n",
      "Sector 113, Noida                                         5\n",
      "Sector 168, Noida                                         5\n",
      "Sector 16B, Noida                                         5\n",
      "Sector 27, Noida                                          5\n",
      "Sector 28, Noida                                          5\n",
      "Sector 36, Noida                                          4\n",
      "Sector 117, Noida                                         4\n",
      "Sector 102, Noida                                         4\n",
      "Sector 30, Noida                                          4\n",
      "Sector 71, Noida                                          4\n",
      "Sector 47, Noida                                          3\n",
      "Sector 52, Noida                                          3\n",
      "Sector 15, Noida                                          2\n",
      "Sector 81, Noida                                          2\n",
      "Sector 93B, Noida                                         2\n",
      "Sector 25 Yamuna Express Way, Noida                       2\n",
      "Yeida, Noida                                              2\n",
      "Sector 122, Noida                                         2\n",
      "Sector 92, Noida                                          2\n",
      "Sector 26, Noida                                          2\n",
      "Sector1, Noida                                            1\n",
      "Sector 14A, Noida                                         1\n",
      "Sector 56, Noida                                          1\n",
      "Sector 12, Noida                                          1\n",
      "Dallupura, Noida                                          1\n",
      "Sector 33, Noida                                          1\n",
      "Sector 22, Noida                                          1\n",
      "Sector 70, Noida                                          1\n",
      "Sector 129, Noida                                         1\n",
      "Chhajarsi Colony, Noida                                   1\n",
      "Bahlolpur, Noida                                          1\n",
      "Sector 101, Noida                                         1\n",
      "Sector 16, Noida                                          1\n",
      "Sector 91, Noida                                          1\n",
      "Name: count, dtype: int64\n"
     ]
    }
   ],
   "source": [
    "rare_locations = location_counts[location_counts < 10]\n",
    "\n",
    "# See how many such rare locations exist\n",
    "print(f\"Number of locations with less than 10 entries: {len(rare_locations)}\")\n",
    "\n",
    "# Optionally display them\n",
    "print(rare_locations)"
   ]
  },
  {
   "cell_type": "code",
   "execution_count": null,
   "id": "d1eb674d-3fb8-4cff-8f91-f30fb1ff278f",
   "metadata": {},
   "outputs": [],
   "source": []
  },
  {
   "cell_type": "code",
   "execution_count": 7,
   "id": "67fbdea5-8539-4870-a5a2-069e07e9d5ec",
   "metadata": {},
   "outputs": [
    {
     "data": {
      "text/html": [
       "<div>\n",
       "<style scoped>\n",
       "    .dataframe tbody tr th:only-of-type {\n",
       "        vertical-align: middle;\n",
       "    }\n",
       "\n",
       "    .dataframe tbody tr th {\n",
       "        vertical-align: top;\n",
       "    }\n",
       "\n",
       "    .dataframe thead th {\n",
       "        text-align: right;\n",
       "    }\n",
       "</style>\n",
       "<table border=\"1\" class=\"dataframe\">\n",
       "  <thead>\n",
       "    <tr style=\"text-align: right;\">\n",
       "      <th></th>\n",
       "      <th>Flat No.</th>\n",
       "      <th>Area in Sqrt</th>\n",
       "      <th>No.of Bhk</th>\n",
       "    </tr>\n",
       "  </thead>\n",
       "  <tbody>\n",
       "    <tr>\n",
       "      <th>count</th>\n",
       "      <td>4460.00000</td>\n",
       "      <td>4460.000000</td>\n",
       "      <td>4460.000000</td>\n",
       "    </tr>\n",
       "    <tr>\n",
       "      <th>mean</th>\n",
       "      <td>2229.50000</td>\n",
       "      <td>1983.312332</td>\n",
       "      <td>2.907175</td>\n",
       "    </tr>\n",
       "    <tr>\n",
       "      <th>std</th>\n",
       "      <td>1287.63543</td>\n",
       "      <td>1372.932820</td>\n",
       "      <td>1.087717</td>\n",
       "    </tr>\n",
       "    <tr>\n",
       "      <th>min</th>\n",
       "      <td>0.00000</td>\n",
       "      <td>434.000000</td>\n",
       "      <td>1.000000</td>\n",
       "    </tr>\n",
       "    <tr>\n",
       "      <th>25%</th>\n",
       "      <td>1114.75000</td>\n",
       "      <td>1050.000000</td>\n",
       "      <td>2.000000</td>\n",
       "    </tr>\n",
       "    <tr>\n",
       "      <th>50%</th>\n",
       "      <td>2229.50000</td>\n",
       "      <td>1550.000000</td>\n",
       "      <td>3.000000</td>\n",
       "    </tr>\n",
       "    <tr>\n",
       "      <th>75%</th>\n",
       "      <td>3344.25000</td>\n",
       "      <td>2500.000000</td>\n",
       "      <td>3.000000</td>\n",
       "    </tr>\n",
       "    <tr>\n",
       "      <th>max</th>\n",
       "      <td>4459.00000</td>\n",
       "      <td>15000.000000</td>\n",
       "      <td>10.000000</td>\n",
       "    </tr>\n",
       "  </tbody>\n",
       "</table>\n",
       "</div>"
      ],
      "text/plain": [
       "         Flat No.  Area in Sqrt    No.of Bhk\n",
       "count  4460.00000   4460.000000  4460.000000\n",
       "mean   2229.50000   1983.312332     2.907175\n",
       "std    1287.63543   1372.932820     1.087717\n",
       "min       0.00000    434.000000     1.000000\n",
       "25%    1114.75000   1050.000000     2.000000\n",
       "50%    2229.50000   1550.000000     3.000000\n",
       "75%    3344.25000   2500.000000     3.000000\n",
       "max    4459.00000  15000.000000    10.000000"
      ]
     },
     "execution_count": 7,
     "metadata": {},
     "output_type": "execute_result"
    }
   ],
   "source": [
    "df.describe()"
   ]
  },
  {
   "cell_type": "code",
   "execution_count": 8,
   "id": "d412b917-81f7-4bf8-887c-669776a7b075",
   "metadata": {},
   "outputs": [
    {
     "data": {
      "text/plain": [
       "No.of Bhk\n",
       "3     1774\n",
       "2     1343\n",
       "4      875\n",
       "1      262\n",
       "5      142\n",
       "6       20\n",
       "8       14\n",
       "7       13\n",
       "10      10\n",
       "9        7\n",
       "Name: count, dtype: int64"
      ]
     },
     "execution_count": 8,
     "metadata": {},
     "output_type": "execute_result"
    }
   ],
   "source": [
    "df[\"No.of Bhk\"].value_counts()"
   ]
  },
  {
   "cell_type": "code",
   "execution_count": 9,
   "id": "10920b6a-3c54-4b69-8670-d08585eaad7d",
   "metadata": {},
   "outputs": [],
   "source": [
    "def clean_price(price_str):\n",
    "    \"\"\"Convert price strings like '3.9 Cr', '60 L', '2500000' into Lakhs.\"\"\"\n",
    "    try:\n",
    "        if pd.isna(price_str):\n",
    "            return None\n",
    "        price_str = str(price_str).replace(',', '').strip().lower()\n",
    "        if 'cr' in price_str:\n",
    "            return float(price_str.replace('cr', '').strip()) * 100\n",
    "        elif 'l' in price_str:\n",
    "            return float(price_str.replace('l', '').strip())\n",
    "        else:\n",
    "            return float(price_str) / 100000  # assume plain rupees\n",
    "    except:\n",
    "        return None"
   ]
  },
  {
   "cell_type": "code",
   "execution_count": 10,
   "id": "311cbcf9-55f9-4fd6-b657-e6079f315698",
   "metadata": {},
   "outputs": [],
   "source": [
    "def extract_location(location_str):\n",
    "    if pd.isna(location_str):  # agar value NaN ho to None return karo\n",
    "        return None\n",
    "    location_str = str(location_str)  # value ko string mein convert karo\n",
    "    return location_str.split(',')[0].strip()  # comma ke pehle wali value lo aur space hatao\n",
    "\n",
    "\n",
    "def clean_house_data(df):\n",
    "    \"\"\"Clean Location and Price columns in house dataset.\"\"\"\n",
    "    df = df.copy()\n",
    "    df['Location'] = df['Location'].apply(extract_location)\n",
    "    df['Price'] = df['Price'].apply(clean_price)\n",
    "    return df"
   ]
  },
  {
   "cell_type": "code",
   "execution_count": 11,
   "id": "c50b7ae7-0088-47f0-9e83-e827ec913c3e",
   "metadata": {},
   "outputs": [
    {
     "data": {
      "text/html": [
       "<div>\n",
       "<style scoped>\n",
       "    .dataframe tbody tr th:only-of-type {\n",
       "        vertical-align: middle;\n",
       "    }\n",
       "\n",
       "    .dataframe tbody tr th {\n",
       "        vertical-align: top;\n",
       "    }\n",
       "\n",
       "    .dataframe thead th {\n",
       "        text-align: right;\n",
       "    }\n",
       "</style>\n",
       "<table border=\"1\" class=\"dataframe\">\n",
       "  <thead>\n",
       "    <tr style=\"text-align: right;\">\n",
       "      <th></th>\n",
       "      <th>Flat No.</th>\n",
       "      <th>Area in Sqrt</th>\n",
       "      <th>No.of Bhk</th>\n",
       "      <th>Location</th>\n",
       "      <th>Price</th>\n",
       "    </tr>\n",
       "  </thead>\n",
       "  <tbody>\n",
       "    <tr>\n",
       "      <th>0</th>\n",
       "      <td>0</td>\n",
       "      <td>3720</td>\n",
       "      <td>4</td>\n",
       "      <td>Sector 107, Noida</td>\n",
       "      <td>3.9 Cr</td>\n",
       "    </tr>\n",
       "    <tr>\n",
       "      <th>1</th>\n",
       "      <td>1</td>\n",
       "      <td>1625</td>\n",
       "      <td>3</td>\n",
       "      <td>Sector 50, Noida</td>\n",
       "      <td>1.15 Cr</td>\n",
       "    </tr>\n",
       "    <tr>\n",
       "      <th>2</th>\n",
       "      <td>2</td>\n",
       "      <td>1325</td>\n",
       "      <td>3</td>\n",
       "      <td>Sector 120, Noida</td>\n",
       "      <td>60 L</td>\n",
       "    </tr>\n",
       "    <tr>\n",
       "      <th>3</th>\n",
       "      <td>3</td>\n",
       "      <td>650</td>\n",
       "      <td>1</td>\n",
       "      <td>Sector 73, Noida</td>\n",
       "      <td>19 L</td>\n",
       "    </tr>\n",
       "    <tr>\n",
       "      <th>4</th>\n",
       "      <td>4</td>\n",
       "      <td>950</td>\n",
       "      <td>2</td>\n",
       "      <td>Phase 2 Noida Extension, Noida</td>\n",
       "      <td>25.99 L</td>\n",
       "    </tr>\n",
       "  </tbody>\n",
       "</table>\n",
       "</div>"
      ],
      "text/plain": [
       "   Flat No.  Area in Sqrt  No.of Bhk                        Location     Price\n",
       "0         0          3720          4               Sector 107, Noida    3.9 Cr\n",
       "1         1          1625          3                Sector 50, Noida   1.15 Cr\n",
       "2         2          1325          3               Sector 120, Noida      60 L\n",
       "3         3           650          1                Sector 73, Noida      19 L\n",
       "4         4           950          2  Phase 2 Noida Extension, Noida   25.99 L"
      ]
     },
     "execution_count": 11,
     "metadata": {},
     "output_type": "execute_result"
    }
   ],
   "source": [
    "df.head()"
   ]
  },
  {
   "cell_type": "code",
   "execution_count": 12,
   "id": "2215d6b6-4fa3-4358-90e2-18d060cb678a",
   "metadata": {},
   "outputs": [
    {
     "data": {
      "text/html": [
       "<div>\n",
       "<style scoped>\n",
       "    .dataframe tbody tr th:only-of-type {\n",
       "        vertical-align: middle;\n",
       "    }\n",
       "\n",
       "    .dataframe tbody tr th {\n",
       "        vertical-align: top;\n",
       "    }\n",
       "\n",
       "    .dataframe thead th {\n",
       "        text-align: right;\n",
       "    }\n",
       "</style>\n",
       "<table border=\"1\" class=\"dataframe\">\n",
       "  <thead>\n",
       "    <tr style=\"text-align: right;\">\n",
       "      <th></th>\n",
       "      <th>Flat No.</th>\n",
       "      <th>Area in Sqrt</th>\n",
       "      <th>No.of Bhk</th>\n",
       "      <th>Location</th>\n",
       "      <th>Price</th>\n",
       "    </tr>\n",
       "  </thead>\n",
       "  <tbody>\n",
       "    <tr>\n",
       "      <th>0</th>\n",
       "      <td>0</td>\n",
       "      <td>3720</td>\n",
       "      <td>4</td>\n",
       "      <td>Sector 107</td>\n",
       "      <td>390.00</td>\n",
       "    </tr>\n",
       "    <tr>\n",
       "      <th>1</th>\n",
       "      <td>1</td>\n",
       "      <td>1625</td>\n",
       "      <td>3</td>\n",
       "      <td>Sector 50</td>\n",
       "      <td>115.00</td>\n",
       "    </tr>\n",
       "    <tr>\n",
       "      <th>2</th>\n",
       "      <td>2</td>\n",
       "      <td>1325</td>\n",
       "      <td>3</td>\n",
       "      <td>Sector 120</td>\n",
       "      <td>60.00</td>\n",
       "    </tr>\n",
       "    <tr>\n",
       "      <th>3</th>\n",
       "      <td>3</td>\n",
       "      <td>650</td>\n",
       "      <td>1</td>\n",
       "      <td>Sector 73</td>\n",
       "      <td>19.00</td>\n",
       "    </tr>\n",
       "    <tr>\n",
       "      <th>4</th>\n",
       "      <td>4</td>\n",
       "      <td>950</td>\n",
       "      <td>2</td>\n",
       "      <td>Phase 2 Noida Extension</td>\n",
       "      <td>25.99</td>\n",
       "    </tr>\n",
       "  </tbody>\n",
       "</table>\n",
       "</div>"
      ],
      "text/plain": [
       "   Flat No.  Area in Sqrt  No.of Bhk                 Location   Price\n",
       "0         0          3720          4               Sector 107  390.00\n",
       "1         1          1625          3                Sector 50  115.00\n",
       "2         2          1325          3               Sector 120   60.00\n",
       "3         3           650          1                Sector 73   19.00\n",
       "4         4           950          2  Phase 2 Noida Extension   25.99"
      ]
     },
     "execution_count": 12,
     "metadata": {},
     "output_type": "execute_result"
    }
   ],
   "source": [
    "df = clean_house_data(df)\n",
    "df.head()\n"
   ]
  },
  {
   "cell_type": "code",
   "execution_count": 13,
   "id": "b1f08dd2-389f-45ca-ae9e-cafcb4522328",
   "metadata": {},
   "outputs": [
    {
     "name": "stdout",
     "output_type": "stream",
     "text": [
      "<class 'pandas.core.frame.DataFrame'>\n",
      "RangeIndex: 4460 entries, 0 to 4459\n",
      "Data columns (total 5 columns):\n",
      " #   Column        Non-Null Count  Dtype  \n",
      "---  ------        --------------  -----  \n",
      " 0   Flat No.      4460 non-null   int64  \n",
      " 1   Area in Sqrt  4460 non-null   int64  \n",
      " 2   No.of Bhk     4460 non-null   int64  \n",
      " 3   Location      4460 non-null   object \n",
      " 4   Price         4460 non-null   float64\n",
      "dtypes: float64(1), int64(3), object(1)\n",
      "memory usage: 174.3+ KB\n"
     ]
    }
   ],
   "source": [
    "df.info()"
   ]
  },
  {
   "cell_type": "code",
   "execution_count": 14,
   "id": "6bc824f2-178e-42b3-a1a1-fb772dc2acfe",
   "metadata": {},
   "outputs": [
    {
     "name": "stdout",
     "output_type": "stream",
     "text": [
      "Location\n",
      "Phase 2 Noida Extension                            9\n",
      "Sector 14                                          9\n",
      "Sector 22D Yamuna Expressway                       8\n",
      "Sector-106 Noida                                   8\n",
      "Sector 40                                          7\n",
      "Sector 46                                          7\n",
      "Sector 61                                          7\n",
      "Urbainia Trinity Noida Extension Yakubpur Noida    7\n",
      "Sector 39                                          6\n",
      "Sector 151                                         6\n",
      "Sector 19                                          6\n",
      "Sector 149                                         6\n",
      "Sector 118                                         6\n",
      "Sector 34                                          6\n",
      "rho 2                                              5\n",
      "Sector 51                                          5\n",
      "Sector 113                                         5\n",
      "Sector 168                                         5\n",
      "Sector 16B                                         5\n",
      "Sector 27                                          5\n",
      "Sector 28                                          5\n",
      "Sector 36                                          4\n",
      "Sector 117                                         4\n",
      "Sector 102                                         4\n",
      "Sector 30                                          4\n",
      "Sector 71                                          4\n",
      "Sector 47                                          3\n",
      "Sector 52                                          3\n",
      "Sector 15                                          2\n",
      "Sector 81                                          2\n",
      "Sector 93B                                         2\n",
      "Sector 25 Yamuna Express Way                       2\n",
      "Yeida                                              2\n",
      "Sector 122                                         2\n",
      "Sector 92                                          2\n",
      "Sector 26                                          2\n",
      "Sector1                                            1\n",
      "Sector 14A                                         1\n",
      "Sector 56                                          1\n",
      "Sector 12                                          1\n",
      "Dallupura                                          1\n",
      "Sector 33                                          1\n",
      "Sector 22                                          1\n",
      "Sector 70                                          1\n",
      "Sector 129                                         1\n",
      "Chhajarsi Colony                                   1\n",
      "Bahlolpur                                          1\n",
      "Sector 101                                         1\n",
      "Sector 16                                          1\n",
      "Sector 91                                          1\n",
      "Name: count, dtype: int64\n",
      "\n",
      "Total rare locations (<10 listings): 50\n"
     ]
    }
   ],
   "source": [
    "location_counts = df['Location'].value_counts()\n",
    "rare_locations = location_counts[location_counts < 10]\n",
    "print(rare_locations)\n",
    "print(f\"\\nTotal rare locations (<10 listings): {len(rare_locations)}\")\n"
   ]
  },
  {
   "cell_type": "code",
   "execution_count": 15,
   "id": "14b76d6d-03f5-4b36-b59e-3a9048090529",
   "metadata": {},
   "outputs": [],
   "source": [
    "df['Location'] = df['Location'].apply(\n",
    "    lambda x: 'Other' if x in rare_locations else x\n",
    ")\n"
   ]
  },
  {
   "cell_type": "code",
   "execution_count": 16,
   "id": "693f4fe0-c122-4d83-923d-ddd7ca1acdb4",
   "metadata": {},
   "outputs": [
    {
     "data": {
      "text/html": [
       "<div>\n",
       "<style scoped>\n",
       "    .dataframe tbody tr th:only-of-type {\n",
       "        vertical-align: middle;\n",
       "    }\n",
       "\n",
       "    .dataframe tbody tr th {\n",
       "        vertical-align: top;\n",
       "    }\n",
       "\n",
       "    .dataframe thead th {\n",
       "        text-align: right;\n",
       "    }\n",
       "</style>\n",
       "<table border=\"1\" class=\"dataframe\">\n",
       "  <thead>\n",
       "    <tr style=\"text-align: right;\">\n",
       "      <th></th>\n",
       "      <th>Flat No.</th>\n",
       "      <th>Area in Sqrt</th>\n",
       "      <th>No.of Bhk</th>\n",
       "      <th>Location</th>\n",
       "      <th>Price</th>\n",
       "    </tr>\n",
       "  </thead>\n",
       "  <tbody>\n",
       "    <tr>\n",
       "      <th>0</th>\n",
       "      <td>0</td>\n",
       "      <td>3720</td>\n",
       "      <td>4</td>\n",
       "      <td>Sector 107</td>\n",
       "      <td>390.00</td>\n",
       "    </tr>\n",
       "    <tr>\n",
       "      <th>1</th>\n",
       "      <td>1</td>\n",
       "      <td>1625</td>\n",
       "      <td>3</td>\n",
       "      <td>Sector 50</td>\n",
       "      <td>115.00</td>\n",
       "    </tr>\n",
       "    <tr>\n",
       "      <th>2</th>\n",
       "      <td>2</td>\n",
       "      <td>1325</td>\n",
       "      <td>3</td>\n",
       "      <td>Sector 120</td>\n",
       "      <td>60.00</td>\n",
       "    </tr>\n",
       "    <tr>\n",
       "      <th>3</th>\n",
       "      <td>3</td>\n",
       "      <td>650</td>\n",
       "      <td>1</td>\n",
       "      <td>Sector 73</td>\n",
       "      <td>19.00</td>\n",
       "    </tr>\n",
       "    <tr>\n",
       "      <th>4</th>\n",
       "      <td>4</td>\n",
       "      <td>950</td>\n",
       "      <td>2</td>\n",
       "      <td>Other</td>\n",
       "      <td>25.99</td>\n",
       "    </tr>\n",
       "  </tbody>\n",
       "</table>\n",
       "</div>"
      ],
      "text/plain": [
       "   Flat No.  Area in Sqrt  No.of Bhk    Location   Price\n",
       "0         0          3720          4  Sector 107  390.00\n",
       "1         1          1625          3   Sector 50  115.00\n",
       "2         2          1325          3  Sector 120   60.00\n",
       "3         3           650          1   Sector 73   19.00\n",
       "4         4           950          2       Other   25.99"
      ]
     },
     "execution_count": 16,
     "metadata": {},
     "output_type": "execute_result"
    }
   ],
   "source": [
    "df.head()"
   ]
  },
  {
   "cell_type": "code",
   "execution_count": 17,
   "id": "6b549d2f-1e2f-48dd-90c4-ae523659a188",
   "metadata": {},
   "outputs": [],
   "source": [
    "from sklearn.preprocessing import LabelEncoder\n",
    "\n",
    "# Drop unnecessary columns\n",
    "df = df[['Area in Sqrt', 'No.of Bhk', 'Location', 'Price']]\n",
    "\n",
    "# Drop rows with missing prices\n",
    "df.dropna(inplace=True)\n",
    "\n",
    "# Encode location\n",
    "label_encoder = LabelEncoder()\n",
    "df['Location'] = label_encoder.fit_transform(df['Location'])\n"
   ]
  },
  {
   "cell_type": "code",
   "execution_count": 24,
   "id": "73739bcf-300d-47b6-9571-ec8f42f9d2f3",
   "metadata": {},
   "outputs": [
    {
     "data": {
      "text/plain": [
       "array([ 4, 28,  8, 31,  0, 16, 14, 35, 29, 23, 33, 37, 10, 32, 17, 36,  5,\n",
       "       15, 27, 39, 41, 12, 21,  3, 25, 34,  9, 26, 24, 19, 30, 40,  6,  1,\n",
       "       18, 22, 38, 11,  2, 13, 20,  7])"
      ]
     },
     "execution_count": 24,
     "metadata": {},
     "output_type": "execute_result"
    }
   ],
   "source": [
    "df[\"Location\"].unique()"
   ]
  },
  {
   "cell_type": "code",
   "execution_count": 19,
   "id": "9ba1b154-698f-4c9c-8ad7-4a9a40ac6ef6",
   "metadata": {},
   "outputs": [],
   "source": [
    "from sklearn.model_selection import train_test_split\n",
    "from sklearn.linear_model import LinearRegression, Lasso, Ridge\n",
    "from sklearn.preprocessing import OneHotEncoder, StandardScaler\n",
    "from sklearn.compose import make_column_transformer\n",
    "from sklearn.pipeline import make_pipeline\n",
    "from sklearn.metrics import r2_score\n",
    "\n"
   ]
  },
  {
   "cell_type": "code",
   "execution_count": 20,
   "id": "d05552b0-1e37-45a7-83bd-8c05898a60d0",
   "metadata": {},
   "outputs": [],
   "source": [
    "df.to_csv(\"clean_data_csv\")"
   ]
  },
  {
   "cell_type": "code",
   "execution_count": 21,
   "id": "df29c596-f385-4afa-aae4-921f6924b027",
   "metadata": {},
   "outputs": [],
   "source": [
    "X = df.drop(columns=[\"Price\"])\n",
    "y= df[\"Price\"]"
   ]
  },
  {
   "cell_type": "code",
   "execution_count": 22,
   "id": "bc9f00eb-6301-47d4-be0d-5e0dc37465fd",
   "metadata": {},
   "outputs": [],
   "source": [
    "X_train, X_test, y_train, y_test = train_test_split(X, y, test_size=0.2, random_state=42)\n"
   ]
  },
  {
   "cell_type": "code",
   "execution_count": 23,
   "id": "073b08ca-e78d-4f8e-98da-c39c54f48de9",
   "metadata": {},
   "outputs": [
    {
     "name": "stdout",
     "output_type": "stream",
     "text": [
      "x_train shape: (3568, 3)\n",
      "x_test shape: (892, 3)\n"
     ]
    },
    {
     "ename": "NameError",
     "evalue": "name 'Y_train' is not defined",
     "output_type": "error",
     "traceback": [
      "\u001b[31m---------------------------------------------------------------------------\u001b[39m",
      "\u001b[31mNameError\u001b[39m                                 Traceback (most recent call last)",
      "\u001b[36mCell\u001b[39m\u001b[36m \u001b[39m\u001b[32mIn[23]\u001b[39m\u001b[32m, line 3\u001b[39m\n\u001b[32m      1\u001b[39m \u001b[38;5;28mprint\u001b[39m(\u001b[33m\"\u001b[39m\u001b[33mx_train shape:\u001b[39m\u001b[33m\"\u001b[39m, X_train.shape)\n\u001b[32m      2\u001b[39m \u001b[38;5;28mprint\u001b[39m(\u001b[33m\"\u001b[39m\u001b[33mx_test shape:\u001b[39m\u001b[33m\"\u001b[39m, X_test.shape)\n\u001b[32m----> \u001b[39m\u001b[32m3\u001b[39m \u001b[38;5;28mprint\u001b[39m(\u001b[33m\"\u001b[39m\u001b[33my_train shape:\u001b[39m\u001b[33m\"\u001b[39m, \u001b[43mY_train\u001b[49m.shape)\n\u001b[32m      4\u001b[39m \u001b[38;5;28mprint\u001b[39m(\u001b[33m\"\u001b[39m\u001b[33my_test shape:\u001b[39m\u001b[33m\"\u001b[39m, Y_test.shape)\n",
      "\u001b[31mNameError\u001b[39m: name 'Y_train' is not defined"
     ]
    }
   ],
   "source": [
    "print(\"x_train shape:\", X_train.shape)\n",
    "print(\"x_test shape:\", X_test.shape)\n",
    "print(\"y_train shape:\", Y_train.shape)\n",
    "print(\"y_test shape:\", Y_test.shape)\n"
   ]
  },
  {
   "cell_type": "code",
   "execution_count": null,
   "id": "6e2664c1-68ad-4df5-90f1-3503a57d370a",
   "metadata": {},
   "outputs": [],
   "source": [
    "column_transformer = make_column_transformer(\n",
    "    (OneHotEncoder(sparse_output=False), [\"Location\"]),\n",
    "    remainder='passthrough'\n",
    ")"
   ]
  },
  {
   "cell_type": "code",
   "execution_count": null,
   "id": "7fcfbc31-475d-42b7-a06a-536758b0df73",
   "metadata": {},
   "outputs": [],
   "source": [
    "scaler = StandardScaler()"
   ]
  },
  {
   "cell_type": "code",
   "execution_count": null,
   "id": "ddfc1849-cf8e-486d-ad54-4edcf9c12997",
   "metadata": {},
   "outputs": [],
   "source": [
    "lr = LinearRegression()"
   ]
  },
  {
   "cell_type": "code",
   "execution_count": null,
   "id": "0b4c03d1-0240-4bc1-b62b-33a8c069e2b2",
   "metadata": {},
   "outputs": [],
   "source": [
    "pipe = make_pipeline(column_transformer , scaler, lr)"
   ]
  },
  {
   "cell_type": "code",
   "execution_count": null,
   "id": "ad84ddca-47dc-410a-b839-39dc35a4e695",
   "metadata": {},
   "outputs": [],
   "source": [
    "pipe.fit(x_train , y_train)"
   ]
  },
  {
   "cell_type": "code",
   "execution_count": 28,
   "id": "9c295344-90eb-4a1f-a0ed-05688af88a6f",
   "metadata": {},
   "outputs": [
    {
     "name": "stdout",
     "output_type": "stream",
     "text": [
      "(3568, 3) (3568,)\n"
     ]
    }
   ],
   "source": [
    "print(X_train.shape, y_train.shape)  # Should be (N, features) and (N,)"
   ]
  },
  {
   "cell_type": "code",
   "execution_count": null,
   "id": "d28e7da4-c936-448c-a507-99540c5e49f3",
   "metadata": {},
   "outputs": [],
   "source": [
    "y_pred_lr = pipe.predict(X_test)"
   ]
  },
  {
   "cell_type": "code",
   "execution_count": null,
   "id": "5131a341-c602-455e-8a4e-c5d45ed97680",
   "metadata": {},
   "outputs": [],
   "source": [
    "r2_score(y_test, y_pred_lr)"
   ]
  },
  {
   "cell_type": "code",
   "execution_count": 32,
   "id": "cd1c658d-99aa-42d4-a98e-b246f24ec9d5",
   "metadata": {},
   "outputs": [
    {
     "name": "stdout",
     "output_type": "stream",
     "text": [
      "0.9177431623245932\n"
     ]
    }
   ],
   "source": [
    "from sklearn.ensemble import RandomForestRegressor\n",
    "\n",
    "model = RandomForestRegressor(random_state=42)\n",
    "model.fit(X_train, y_train)\n",
    "y_pred = model.predict(X_test)\n",
    "\n",
    "from sklearn.metrics import r2_score\n",
    "print(r2_score(y_test, y_pred))\n"
   ]
  },
  {
   "cell_type": "code",
   "execution_count": null,
   "id": "cc45c691-e488-4d87-a7f7-2105bf238cb5",
   "metadata": {},
   "outputs": [],
   "source": [
    "import pickle"
   ]
  },
  {
   "cell_type": "code",
   "execution_count": null,
   "id": "30f54e02-0b85-4996-ba28-74f79e23af11",
   "metadata": {},
   "outputs": [],
   "source": [
    "with open('house_price_model.pkl', 'wb') as file:\n",
    "    pickle.dump(model, file)"
   ]
  },
  {
   "cell_type": "code",
   "execution_count": null,
   "id": "9e249426-c219-40d4-b84e-42c4ec14df6a",
   "metadata": {},
   "outputs": [],
   "source": [
    "df.head()"
   ]
  },
  {
   "cell_type": "code",
   "execution_count": null,
   "id": "af8ba710-8d9c-4589-9ecb-c7c379308fc9",
   "metadata": {},
   "outputs": [],
   "source": [
    "location_mapping = dict(zip(label_encoder.transform(label_encoder.classes_), label_encoder.classes_))\n"
   ]
  },
  {
   "cell_type": "code",
   "execution_count": null,
   "id": "56bb1466-2bab-47b6-abae-f14d9c8c1a92",
   "metadata": {},
   "outputs": [],
   "source": [
    "with open('location_mapping.pkl', 'wb') as f:\n",
    "    pickle.dump(location_mapping, f)\n"
   ]
  },
  {
   "cell_type": "code",
   "execution_count": null,
   "id": "9fb5fa82-0e0c-4542-aa8b-9203503086cb",
   "metadata": {},
   "outputs": [],
   "source": [
    "df[\"Area in Sqrt\"].value_counts()"
   ]
  },
  {
   "cell_type": "code",
   "execution_count": null,
   "id": "5c65b3d0-4dc4-4ceb-9959-d92d34b76d4a",
   "metadata": {},
   "outputs": [],
   "source": [
    "df.info()"
   ]
  },
  {
   "cell_type": "code",
   "execution_count": 29,
   "id": "bb87dc02-d6ad-4b46-9e44-47617d3ce794",
   "metadata": {},
   "outputs": [
    {
     "data": {
      "image/png": "[encoded data removed]",
      "text/plain": [
       "<Figure size 640x480 with 1 Axes>"
      ]
     },
     "metadata": {},
     "output_type": "display_data"
    }
   ],
   "source": [
    "import matplotlib.pyplot as plt\n",
    "\n",
    "plt.scatter(df['Area in Sqrt'], df['Price'])\n",
    "plt.xlabel('Area in SqFt')\n",
    "plt.ylabel('Price')\n",
    "plt.title('Area vs Price')\n",
    "plt.show()\n"
   ]
  },
  {
   "cell_type": "code",
   "execution_count": null,
   "id": "f3f43c0e-6cc1-4227-ba4f-242cf46c37e8",
   "metadata": {},
   "outputs": [],
   "source": [
    "# Feature importance after training\n",
    "features = ['Area in Sqrt', 'No.of Bhk', 'Location']\n",
    "importances = model.feature_importances_\n",
    "\n",
    "for name, score in zip(features, importances):\n",
    "    print(f\"{name}: {score:.4f}\")\n"
   ]
  },
  {
   "cell_type": "code",
   "execution_count": null,
   "id": "6ff14af2-c3cc-4486-8106-5a46c3d59c9d",
   "metadata": {},
   "outputs": [],
   "source": [
    "# One-hot encode location\n",
    "df = pd.get_dummies(df, columns=['Location'], drop_first=True)\n"
   ]
  },
  {
   "cell_type": "code",
   "execution_count": null,
   "id": "335b0174-5bc3-46e4-a45f-beeeec34d57b",
   "metadata": {},
   "outputs": [],
   "source": [
    "df.head()"
   ]
  },
  {
   "cell_type": "code",
   "execution_count": null,
   "id": "2d890b1d-3bbb-4858-9661-897a07a64ec5",
   "metadata": {},
   "outputs": [],
   "source": [
    "df = pd.get_dummies(df, columns=['Location'], prefix='Location', drop_first=False)\n"
   ]
  },
  {
   "cell_type": "code",
   "execution_count": 27,
   "id": "38cf973a-3b6b-4e03-8a48-8a9d84718cf6",
   "metadata": {},
   "outputs": [
    {
     "data": {
      "text/html": [
       "<div>\n",
       "<style scoped>\n",
       "    .dataframe tbody tr th:only-of-type {\n",
       "        vertical-align: middle;\n",
       "    }\n",
       "\n",
       "    .dataframe tbody tr th {\n",
       "        vertical-align: top;\n",
       "    }\n",
       "\n",
       "    .dataframe thead th {\n",
       "        text-align: right;\n",
       "    }\n",
       "</style>\n",
       "<table border=\"1\" class=\"dataframe\">\n",
       "  <thead>\n",
       "    <tr style=\"text-align: right;\">\n",
       "      <th></th>\n",
       "      <th>Area in Sqrt</th>\n",
       "      <th>No.of Bhk</th>\n",
       "      <th>Location</th>\n",
       "      <th>Price</th>\n",
       "    </tr>\n",
       "  </thead>\n",
       "  <tbody>\n",
       "    <tr>\n",
       "      <th>0</th>\n",
       "      <td>3720</td>\n",
       "      <td>4</td>\n",
       "      <td>4</td>\n",
       "      <td>390.00</td>\n",
       "    </tr>\n",
       "    <tr>\n",
       "      <th>1</th>\n",
       "      <td>1625</td>\n",
       "      <td>3</td>\n",
       "      <td>28</td>\n",
       "      <td>115.00</td>\n",
       "    </tr>\n",
       "    <tr>\n",
       "      <th>2</th>\n",
       "      <td>1325</td>\n",
       "      <td>3</td>\n",
       "      <td>8</td>\n",
       "      <td>60.00</td>\n",
       "    </tr>\n",
       "    <tr>\n",
       "      <th>3</th>\n",
       "      <td>650</td>\n",
       "      <td>1</td>\n",
       "      <td>31</td>\n",
       "      <td>19.00</td>\n",
       "    </tr>\n",
       "    <tr>\n",
       "      <th>4</th>\n",
       "      <td>950</td>\n",
       "      <td>2</td>\n",
       "      <td>0</td>\n",
       "      <td>25.99</td>\n",
       "    </tr>\n",
       "    <tr>\n",
       "      <th>...</th>\n",
       "      <td>...</td>\n",
       "      <td>...</td>\n",
       "      <td>...</td>\n",
       "      <td>...</td>\n",
       "    </tr>\n",
       "    <tr>\n",
       "      <th>4455</th>\n",
       "      <td>2190</td>\n",
       "      <td>3</td>\n",
       "      <td>16</td>\n",
       "      <td>180.00</td>\n",
       "    </tr>\n",
       "    <tr>\n",
       "      <th>4456</th>\n",
       "      <td>1500</td>\n",
       "      <td>3</td>\n",
       "      <td>27</td>\n",
       "      <td>47.00</td>\n",
       "    </tr>\n",
       "    <tr>\n",
       "      <th>4457</th>\n",
       "      <td>1700</td>\n",
       "      <td>4</td>\n",
       "      <td>27</td>\n",
       "      <td>65.00</td>\n",
       "    </tr>\n",
       "    <tr>\n",
       "      <th>4458</th>\n",
       "      <td>1050</td>\n",
       "      <td>2</td>\n",
       "      <td>27</td>\n",
       "      <td>32.50</td>\n",
       "    </tr>\n",
       "    <tr>\n",
       "      <th>4459</th>\n",
       "      <td>1050</td>\n",
       "      <td>2</td>\n",
       "      <td>27</td>\n",
       "      <td>35.00</td>\n",
       "    </tr>\n",
       "  </tbody>\n",
       "</table>\n",
       "<p>4460 rows × 4 columns</p>\n",
       "</div>"
      ],
      "text/plain": [
       "      Area in Sqrt  No.of Bhk  Location   Price\n",
       "0             3720          4         4  390.00\n",
       "1             1625          3        28  115.00\n",
       "2             1325          3         8   60.00\n",
       "3              650          1        31   19.00\n",
       "4              950          2         0   25.99\n",
       "...            ...        ...       ...     ...\n",
       "4455          2190          3        16  180.00\n",
       "4456          1500          3        27   47.00\n",
       "4457          1700          4        27   65.00\n",
       "4458          1050          2        27   32.50\n",
       "4459          1050          2        27   35.00\n",
       "\n",
       "[4460 rows x 4 columns]"
      ]
     },
     "execution_count": 27,
     "metadata": {},
     "output_type": "execute_result"
    }
   ],
   "source": [
    "df.copy()"
   ]
  },
  {
   "cell_type": "code",
   "execution_count": 30,
   "id": "e7a7f251-6804-4f36-91e2-7950cd9f5ee5",
   "metadata": {},
   "outputs": [
    {
     "ename": "NameError",
     "evalue": "name 'rfr' is not defined",
     "output_type": "error",
     "traceback": [
      "\u001b[31m---------------------------------------------------------------------------\u001b[39m",
      "\u001b[31mNameError\u001b[39m                                 Traceback (most recent call last)",
      "\u001b[36mCell\u001b[39m\u001b[36m \u001b[39m\u001b[32mIn[30]\u001b[39m\u001b[32m, line 1\u001b[39m\n\u001b[32m----> \u001b[39m\u001b[32m1\u001b[39m \u001b[38;5;28mprint\u001b[39m(\u001b[33m\"\u001b[39m\u001b[33mTrain Score:\u001b[39m\u001b[33m\"\u001b[39m, \u001b[43mrfr\u001b[49m.score(X_train, y_train))\n\u001b[32m      2\u001b[39m \u001b[38;5;28mprint\u001b[39m(\u001b[33m\"\u001b[39m\u001b[33mTest Score :\u001b[39m\u001b[33m\"\u001b[39m, rfr.score(X_test, y_test))\n",
      "\u001b[31mNameError\u001b[39m: name 'rfr' is not defined"
     ]
    }
   ],
   "source": [
    "print(\"Train Score:\", rfr.score(X_train, y_train))\n",
    "print(\"Test Score :\", rfr.score(X_test, y_test))\n"
   ]
  },
  {
   "cell_type": "code",
   "execution_count": 33,
   "id": "f11a4f15-a1cd-4990-927e-22b7facb766e",
   "metadata": {},
   "outputs": [
    {
     "ename": "ValueError",
     "evalue": "The feature names should match those that were passed during fit.\nFeature names unseen at fit time:\n- Bath\n- Size\nFeature names seen at fit time, yet now missing:\n- Area in Sqrt\n- No.of Bhk\n",
     "output_type": "error",
     "traceback": [
      "\u001b[31m---------------------------------------------------------------------------\u001b[39m",
      "\u001b[31mValueError\u001b[39m                                Traceback (most recent call last)",
      "\u001b[36mCell\u001b[39m\u001b[36m \u001b[39m\u001b[32mIn[33]\u001b[39m\u001b[32m, line 7\u001b[39m\n\u001b[32m      1\u001b[39m new_data = pd.DataFrame([{\n\u001b[32m      2\u001b[39m     \u001b[33m'\u001b[39m\u001b[33mLocation\u001b[39m\u001b[33m'\u001b[39m: \u001b[33m'\u001b[39m\u001b[33mSector 150, Noida\u001b[39m\u001b[33m'\u001b[39m,\n\u001b[32m      3\u001b[39m     \u001b[33m'\u001b[39m\u001b[33mSize\u001b[39m\u001b[33m'\u001b[39m: \u001b[32m3\u001b[39m,\n\u001b[32m      4\u001b[39m     \u001b[33m'\u001b[39m\u001b[33mBath\u001b[39m\u001b[33m'\u001b[39m: \u001b[32m2\u001b[39m\n\u001b[32m      5\u001b[39m }])\n\u001b[32m----> \u001b[39m\u001b[32m7\u001b[39m predicted_price = \u001b[43mmodel\u001b[49m\u001b[43m.\u001b[49m\u001b[43mpredict\u001b[49m\u001b[43m(\u001b[49m\u001b[43mnew_data\u001b[49m\u001b[43m)\u001b[49m\n\u001b[32m      8\u001b[39m \u001b[38;5;28mprint\u001b[39m(\u001b[33mf\u001b[39m\u001b[33m\"\u001b[39m\u001b[33mPredicted House Price: ₹\u001b[39m\u001b[38;5;132;01m{\u001b[39;00mpredicted_price[\u001b[32m0\u001b[39m]\u001b[38;5;132;01m:\u001b[39;00m\u001b[33m,.2f\u001b[39m\u001b[38;5;132;01m}\u001b[39;00m\u001b[33m\"\u001b[39m)\n",
      "\u001b[36mFile \u001b[39m\u001b[32m~\\AppData\\Local\\Programs\\Python\\Python312\\Lib\\site-packages\\sklearn\\ensemble\\_forest.py:1066\u001b[39m, in \u001b[36mForestRegressor.predict\u001b[39m\u001b[34m(self, X)\u001b[39m\n\u001b[32m   1064\u001b[39m check_is_fitted(\u001b[38;5;28mself\u001b[39m)\n\u001b[32m   1065\u001b[39m \u001b[38;5;66;03m# Check data\u001b[39;00m\n\u001b[32m-> \u001b[39m\u001b[32m1066\u001b[39m X = \u001b[38;5;28;43mself\u001b[39;49m\u001b[43m.\u001b[49m\u001b[43m_validate_X_predict\u001b[49m\u001b[43m(\u001b[49m\u001b[43mX\u001b[49m\u001b[43m)\u001b[49m\n\u001b[32m   1068\u001b[39m \u001b[38;5;66;03m# Assign chunk of trees to jobs\u001b[39;00m\n\u001b[32m   1069\u001b[39m n_jobs, _, _ = _partition_estimators(\u001b[38;5;28mself\u001b[39m.n_estimators, \u001b[38;5;28mself\u001b[39m.n_jobs)\n",
      "\u001b[36mFile \u001b[39m\u001b[32m~\\AppData\\Local\\Programs\\Python\\Python312\\Lib\\site-packages\\sklearn\\ensemble\\_forest.py:638\u001b[39m, in \u001b[36mBaseForest._validate_X_predict\u001b[39m\u001b[34m(self, X)\u001b[39m\n\u001b[32m    635\u001b[39m \u001b[38;5;28;01melse\u001b[39;00m:\n\u001b[32m    636\u001b[39m     ensure_all_finite = \u001b[38;5;28;01mTrue\u001b[39;00m\n\u001b[32m--> \u001b[39m\u001b[32m638\u001b[39m X = \u001b[43mvalidate_data\u001b[49m\u001b[43m(\u001b[49m\n\u001b[32m    639\u001b[39m \u001b[43m    \u001b[49m\u001b[38;5;28;43mself\u001b[39;49m\u001b[43m,\u001b[49m\n\u001b[32m    640\u001b[39m \u001b[43m    \u001b[49m\u001b[43mX\u001b[49m\u001b[43m,\u001b[49m\n\u001b[32m    641\u001b[39m \u001b[43m    \u001b[49m\u001b[43mdtype\u001b[49m\u001b[43m=\u001b[49m\u001b[43mDTYPE\u001b[49m\u001b[43m,\u001b[49m\n\u001b[32m    642\u001b[39m \u001b[43m    \u001b[49m\u001b[43maccept_sparse\u001b[49m\u001b[43m=\u001b[49m\u001b[33;43m\"\u001b[39;49m\u001b[33;43mcsr\u001b[39;49m\u001b[33;43m\"\u001b[39;49m\u001b[43m,\u001b[49m\n\u001b[32m    643\u001b[39m \u001b[43m    \u001b[49m\u001b[43mreset\u001b[49m\u001b[43m=\u001b[49m\u001b[38;5;28;43;01mFalse\u001b[39;49;00m\u001b[43m,\u001b[49m\n\u001b[32m    644\u001b[39m \u001b[43m    \u001b[49m\u001b[43mensure_all_finite\u001b[49m\u001b[43m=\u001b[49m\u001b[43mensure_all_finite\u001b[49m\u001b[43m,\u001b[49m\n\u001b[32m    645\u001b[39m \u001b[43m\u001b[49m\u001b[43m)\u001b[49m\n\u001b[32m    646\u001b[39m \u001b[38;5;28;01mif\u001b[39;00m issparse(X) \u001b[38;5;129;01mand\u001b[39;00m (X.indices.dtype != np.intc \u001b[38;5;129;01mor\u001b[39;00m X.indptr.dtype != np.intc):\n\u001b[32m    647\u001b[39m     \u001b[38;5;28;01mraise\u001b[39;00m \u001b[38;5;167;01mValueError\u001b[39;00m(\u001b[33m\"\u001b[39m\u001b[33mNo support for np.int64 index based sparse matrices\u001b[39m\u001b[33m\"\u001b[39m)\n",
      "\u001b[36mFile \u001b[39m\u001b[32m~\\AppData\\Local\\Programs\\Python\\Python312\\Lib\\site-packages\\sklearn\\utils\\validation.py:2919\u001b[39m, in \u001b[36mvalidate_data\u001b[39m\u001b[34m(_estimator, X, y, reset, validate_separately, skip_check_array, **check_params)\u001b[39m\n\u001b[32m   2835\u001b[39m \u001b[38;5;28;01mdef\u001b[39;00m\u001b[38;5;250m \u001b[39m\u001b[34mvalidate_data\u001b[39m(\n\u001b[32m   2836\u001b[39m     _estimator,\n\u001b[32m   2837\u001b[39m     /,\n\u001b[32m   (...)\u001b[39m\u001b[32m   2843\u001b[39m     **check_params,\n\u001b[32m   2844\u001b[39m ):\n\u001b[32m   2845\u001b[39m \u001b[38;5;250m    \u001b[39m\u001b[33;03m\"\"\"Validate input data and set or check feature names and counts of the input.\u001b[39;00m\n\u001b[32m   2846\u001b[39m \n\u001b[32m   2847\u001b[39m \u001b[33;03m    This helper function should be used in an estimator that requires input\u001b[39;00m\n\u001b[32m   (...)\u001b[39m\u001b[32m   2917\u001b[39m \u001b[33;03m        validated.\u001b[39;00m\n\u001b[32m   2918\u001b[39m \u001b[33;03m    \"\"\"\u001b[39;00m\n\u001b[32m-> \u001b[39m\u001b[32m2919\u001b[39m     \u001b[43m_check_feature_names\u001b[49m\u001b[43m(\u001b[49m\u001b[43m_estimator\u001b[49m\u001b[43m,\u001b[49m\u001b[43m \u001b[49m\u001b[43mX\u001b[49m\u001b[43m,\u001b[49m\u001b[43m \u001b[49m\u001b[43mreset\u001b[49m\u001b[43m=\u001b[49m\u001b[43mreset\u001b[49m\u001b[43m)\u001b[49m\n\u001b[32m   2920\u001b[39m     tags = get_tags(_estimator)\n\u001b[32m   2921\u001b[39m     \u001b[38;5;28;01mif\u001b[39;00m y \u001b[38;5;129;01mis\u001b[39;00m \u001b[38;5;28;01mNone\u001b[39;00m \u001b[38;5;129;01mand\u001b[39;00m tags.target_tags.required:\n",
      "\u001b[36mFile \u001b[39m\u001b[32m~\\AppData\\Local\\Programs\\Python\\Python312\\Lib\\site-packages\\sklearn\\utils\\validation.py:2777\u001b[39m, in \u001b[36m_check_feature_names\u001b[39m\u001b[34m(estimator, X, reset)\u001b[39m\n\u001b[32m   2774\u001b[39m \u001b[38;5;28;01mif\u001b[39;00m \u001b[38;5;129;01mnot\u001b[39;00m missing_names \u001b[38;5;129;01mand\u001b[39;00m \u001b[38;5;129;01mnot\u001b[39;00m unexpected_names:\n\u001b[32m   2775\u001b[39m     message += \u001b[33m\"\u001b[39m\u001b[33mFeature names must be in the same order as they were in fit.\u001b[39m\u001b[38;5;130;01m\\n\u001b[39;00m\u001b[33m\"\u001b[39m\n\u001b[32m-> \u001b[39m\u001b[32m2777\u001b[39m \u001b[38;5;28;01mraise\u001b[39;00m \u001b[38;5;167;01mValueError\u001b[39;00m(message)\n",
      "\u001b[31mValueError\u001b[39m: The feature names should match those that were passed during fit.\nFeature names unseen at fit time:\n- Bath\n- Size\nFeature names seen at fit time, yet now missing:\n- Area in Sqrt\n- No.of Bhk\n"
     ]
    }
   ],
   "source": [
    "new_data = pd.DataFrame([{\n",
    "    'Location': 'Sector 150, Noida',\n",
    "    'Size': 3,\n",
    "    'Bath': 2\n",
    "}])\n",
    "\n",
    "predicted_price = model.predict(new_data)\n",
    "print(f\"Predicted House Price: ₹{predicted_price[0]:,.2f}\")\n"
   ]
  },
  {
   "cell_type": "code",
   "execution_count": null,
   "id": "bd77cc84-744a-4929-92dd-ec0e25ba11d6",
   "metadata": {},
   "outputs": [],
   "source": []
  }
 ],
 "metadata": {
  "kernelspec": {
   "display_name": "Python 3 (ipykernel)",
   "language": "python",
   "name": "python3"
  },
  "language_info": {
   "codemirror_mode": {
    "name": "ipython",
    "version": 3
   },
   "file_extension": ".py",
   "mimetype": "text/x-python",
   "name": "python",
   "nbconvert_exporter": "python",
   "pygments_lexer": "ipython3",
   "version": "3.12.4"
  }
 },
 "nbformat": 4,
 "nbformat_minor": 5
}
